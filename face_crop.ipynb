{
 "cells": [
  {
   "cell_type": "code",
   "execution_count": 24,
   "metadata": {},
   "outputs": [
    {
     "name": "stdout",
     "output_type": "stream",
     "text": [
      "0\n",
      "C:\\Users\\SUPERMAN\\Desktop\\hand\\verfi\\Test\\Sai\\IMG_20200212_110714 .jpg\n",
      "1\n",
      "C:\\Users\\SUPERMAN\\Desktop\\hand\\verfi\\Test\\Sai\\IMG_20200212_110744 .jpg\n",
      "C:\\Users\\SUPERMAN\\Desktop\\hand\\verfi\\Test\\Sai\\IMG_20200212_110744 .jpg\n",
      "2\n",
      "C:\\Users\\SUPERMAN\\Desktop\\hand\\verfi\\Test\\Sai\\IMG_20200212_110745 .jpg\n",
      "C:\\Users\\SUPERMAN\\Desktop\\hand\\verfi\\Test\\Sai\\IMG_20200212_110745 .jpg\n"
     ]
    }
   ],
   "source": [
    "import cv2\n",
    "import os\n",
    "\n",
    "path = os.path.abspath(r\"C:\\Users\\SUPERMAN\\Desktop\\hand\\verfi\\Test\\Sai\\\\\") ###OLD FOLDER PATH\n",
    "def get_imlist(path):\n",
    "    lis = [os.path.join(path,f) for f in os.listdir(path) if f.endswith('.jpeg') or f.endswith('.jpg') or f.endswith('.png')]\n",
    "    return lis\n",
    "\n",
    "def facecrop(c):\n",
    "    global i\n",
    "    i = 0\n",
    "    for image in c:\n",
    "        #print(image)\n",
    "        facedata =r\"C:\\Users\\SUPERMAN\\Desktop\\hand\\alt2.xml\"\n",
    "        cascade = cv2.CascadeClassifier(facedata)\n",
    "\n",
    "       \n",
    "        img = cv2.imread(image)\n",
    "        #print(image)\n",
    "        #print(\"img v==========\", img)\n",
    "\n",
    "        #minisize = (img.shape[1],img.shape[0])\n",
    "        #miniframe = cv2.resize(img, minisize)\n",
    "        #print(img)\n",
    "\n",
    "        gray = cv2.cvtColor(img,cv2.COLOR_BGR2GRAY)\n",
    "        faces = cascade.detectMultiScale(gray,scaleFactor=1.5,minNeighbors=5)\n",
    "        os.remove(image)\n",
    "        print(i)\n",
    "        for f in faces:\n",
    "            x, y, w, h = [ v for v in f ]\n",
    "            cv2.rectangle(img, (x,y), (x+w,y+h), (255,255,255))\n",
    "\n",
    "            sub_face = img[y:y+h, x:x+w]\n",
    "            fname, ext = os.path.splitext(image)\n",
    "            print(fname, ext)\n",
    "            cv2.imwrite(r\"C:\\Users\\SUPERMAN\\Desktop\\hand\\verfi\\Test\\Sai\\/\"+str(i)+\"_cropped_\"+ext, sub_face)\n",
    "            \n",
    "        i =i+1\n",
    "\n",
    "c = get_imlist(path)\n",
    "#print(c)\n",
    "facecrop(c)"
   ]
  },
  {
   "cell_type": "code",
   "execution_count": null,
   "metadata": {},
   "outputs": [],
   "source": []
  }
 ],
 "metadata": {
  "kernelspec": {
   "display_name": "Python 3",
   "language": "python",
   "name": "python3"
  },
  "language_info": {
   "codemirror_mode": {
    "name": "ipython",
    "version": 3
   },
   "file_extension": ".py",
   "mimetype": "text/x-python",
   "name": "python",
   "nbconvert_exporter": "python",
   "pygments_lexer": "ipython3",
   "version": "3.7.4"
  }
 },
 "nbformat": 4,
 "nbformat_minor": 2
}
